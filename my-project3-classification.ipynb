{
 "cells": [
  {
   "cell_type": "code",
   "execution_count": 1,
   "id": "c3dbe11e",
   "metadata": {},
   "outputs": [],
   "source": [
    "#EDIT ME to change target subreddit...\n",
    "subreddit1 = \"Naruto\" # scraped data includes: ['Naruto', 'BokuNoHeroAcademia', 'anime', 'manga', 'comicbooks',\n",
    "                                                    # 'StarWars', 'startrek', 'LonghornNation', 'cfb', 'Genshin_Impact']\n",
    "subreddit2 = \"anime\"\n",
    "scrape_type = \"submission\"  # set to \"submission\" or \"comment\""
   ]
  },
  {
   "cell_type": "markdown",
   "id": "a2ee108f",
   "metadata": {},
   "source": [
    "# Import"
   ]
  },
  {
   "cell_type": "code",
   "execution_count": 2,
   "id": "5d319d21",
   "metadata": {},
   "outputs": [],
   "source": [
    "import numpy as np\n",
    "import pandas as pd\n",
    "import matplotlib.pyplot as plt\n",
    "from sklearn.model_selection import train_test_split, GridSearchCV, cross_val_score\n",
    "from sklearn.pipeline import Pipeline\n",
    "from sklearn.naive_bayes import MultinomialNB\n",
    "from sklearn.linear_model import LogisticRegression\n",
    "from sklearn.metrics import confusion_matrix, ConfusionMatrixDisplay #plot_confusion_matrix is same thing(?)\n",
    "\n",
    "from sklearn.feature_extraction.text import CountVectorizer, TfidfVectorizer\n",
    "from sklearn.ensemble import RandomForestClassifier #, ExtraTreesClassifier\n",
    "from sklearn.neighbors import KNeighborsClassifier"
   ]
  },
  {
   "cell_type": "code",
   "execution_count": 3,
   "id": "bc4488d3",
   "metadata": {},
   "outputs": [],
   "source": [
    "# Read in data\n",
    "subreddit1_df = pd.read_csv(f'./data/{subreddit1}_{scrape_type}s_preprocessed.csv')\n",
    "subreddit2_df = pd.read_csv(f'./data/{subreddit2}_{scrape_type}s_preprocessed.csv')"
   ]
  },
  {
   "cell_type": "code",
   "execution_count": 4,
   "id": "ed43c614",
   "metadata": {},
   "outputs": [
    {
     "data": {
      "text/plain": [
       "(4887, 20)"
      ]
     },
     "execution_count": 4,
     "metadata": {},
     "output_type": "execute_result"
    }
   ],
   "source": [
    "subreddit1_df.shape"
   ]
  },
  {
   "cell_type": "code",
   "execution_count": 5,
   "id": "e09c6f9c",
   "metadata": {},
   "outputs": [
    {
     "data": {
      "text/plain": [
       "(4734, 20)"
      ]
     },
     "execution_count": 5,
     "metadata": {},
     "output_type": "execute_result"
    }
   ],
   "source": [
    "subreddit2_df.shape"
   ]
  },
  {
   "cell_type": "code",
   "execution_count": 6,
   "id": "f9818ceb",
   "metadata": {
    "scrolled": true
   },
   "outputs": [],
   "source": [
    "all_data = pd.concat([subreddit1_df, subreddit2_df], axis=0)"
   ]
  },
  {
   "cell_type": "code",
   "execution_count": 7,
   "id": "df5ffe02",
   "metadata": {},
   "outputs": [
    {
     "data": {
      "text/plain": [
       "Index(['subreddit', 'selftext', 'author_fullname', 'title', 'upvote_ratio',\n",
       "       'is_reddit_media_domain', 'domain', 'over_18', 'spoiler', 'id',\n",
       "       'author', 'num_comments', 'created_utc', 'is_video', 'created_datetime',\n",
       "       'combined_text', 'combined_text_length', 'combined_wordcount',\n",
       "       'lemmatized_text', 'tokenized_text'],\n",
       "      dtype='object')"
      ]
     },
     "execution_count": 7,
     "metadata": {},
     "output_type": "execute_result"
    }
   ],
   "source": [
    "all_data.columns"
   ]
  },
  {
   "cell_type": "code",
   "execution_count": 8,
   "id": "7947c788",
   "metadata": {},
   "outputs": [],
   "source": [
    "# X = all_data['tokenized_text']\n",
    "X = all_data['combined_text']\n",
    "y = all_data['subreddit']"
   ]
  },
  {
   "cell_type": "markdown",
   "id": "957afbe3",
   "metadata": {},
   "source": [
    "# Baseline"
   ]
  },
  {
   "cell_type": "code",
   "execution_count": 9,
   "id": "0a4d190f",
   "metadata": {},
   "outputs": [
    {
     "data": {
      "text/plain": [
       "Naruto    0.507951\n",
       "anime     0.492049\n",
       "Name: subreddit, dtype: float64"
      ]
     },
     "execution_count": 9,
     "metadata": {},
     "output_type": "execute_result"
    }
   ],
   "source": [
    "#Finding the baseline.  Higher value is the baseline (i.e., if we just simply guessed everything was of the bigger category)\n",
    "y.value_counts(normalize=True)"
   ]
  },
  {
   "cell_type": "code",
   "execution_count": 10,
   "id": "05e5253c",
   "metadata": {},
   "outputs": [],
   "source": [
    "# Split the data into the training and testing sets.\n",
    "X_train, X_test, y_train, y_test = train_test_split(X, \n",
    "                                                    y, \n",
    "                                                    stratify=y,  #keeps approx same balance of y in both the train & split?\n",
    "                                                    random_state=42)"
   ]
  },
  {
   "cell_type": "markdown",
   "id": "27e59711",
   "metadata": {},
   "source": [
    "# Naive Bayes in a GridSearch"
   ]
  },
  {
   "cell_type": "code",
   "execution_count": 11,
   "id": "e0be3857",
   "metadata": {},
   "outputs": [],
   "source": [
    "pipe = Pipeline([\n",
    "    ('cvec', CountVectorizer()),\n",
    "    ('nb', MultinomialNB())\n",
    "])"
   ]
  },
  {
   "cell_type": "code",
   "execution_count": 12,
   "id": "5abba5f4",
   "metadata": {},
   "outputs": [],
   "source": [
    "pipe_params = {\n",
    "    'cvec__stop_words': [None, \"english\"],\n",
    "    'cvec__max_features': [1000, 5000, 10_000],\n",
    "    'cvec__min_df': [1, 2],\n",
    "    'cvec__max_df': [0.4, 0.6, 0.8],  # 'cvec__max_df': [0.9, 0.95],\n",
    "    'cvec__ngram_range': [(1, 1), (1, 3), (2, 3)],\n",
    "}"
   ]
  },
  {
   "cell_type": "code",
   "execution_count": 13,
   "id": "80b894b1",
   "metadata": {},
   "outputs": [],
   "source": [
    "gs_nb = GridSearchCV(pipe, # what object are we optimizing?\n",
    "                  param_grid = pipe_params, # what params am I searching over?\n",
    "                  cv = 5,   # 5 fold cross validation\n",
    "                  n_jobs=8\n",
    ")"
   ]
  },
  {
   "cell_type": "code",
   "execution_count": 14,
   "id": "e3cfbb29",
   "metadata": {},
   "outputs": [
    {
     "data": {
      "text/plain": [
       "GridSearchCV(cv=5,\n",
       "             estimator=Pipeline(steps=[('cvec', CountVectorizer()),\n",
       "                                       ('nb', MultinomialNB())]),\n",
       "             n_jobs=8,\n",
       "             param_grid={'cvec__max_df': [0.4, 0.6, 0.8],\n",
       "                         'cvec__max_features': [1000, 5000, 10000],\n",
       "                         'cvec__min_df': [1, 2],\n",
       "                         'cvec__ngram_range': [(1, 1), (1, 3), (2, 3)],\n",
       "                         'cvec__stop_words': [None, 'english']})"
      ]
     },
     "execution_count": 14,
     "metadata": {},
     "output_type": "execute_result"
    }
   ],
   "source": [
    "gs_nb.fit(X_train, y_train)"
   ]
  },
  {
   "cell_type": "code",
   "execution_count": 15,
   "id": "0d60f8e8",
   "metadata": {},
   "outputs": [
    {
     "data": {
      "text/plain": [
       "{'cvec__max_df': 0.4,\n",
       " 'cvec__max_features': 10000,\n",
       " 'cvec__min_df': 2,\n",
       " 'cvec__ngram_range': (1, 1),\n",
       " 'cvec__stop_words': 'english'}"
      ]
     },
     "execution_count": 15,
     "metadata": {},
     "output_type": "execute_result"
    }
   ],
   "source": [
    "gs_nb.best_params_"
   ]
  },
  {
   "cell_type": "code",
   "execution_count": 16,
   "id": "4bd219bf",
   "metadata": {},
   "outputs": [
    {
     "data": {
      "text/plain": [
       "0.9025641025641026"
      ]
     },
     "execution_count": 16,
     "metadata": {},
     "output_type": "execute_result"
    }
   ],
   "source": [
    "gs_nb.score(X_train, y_train)"
   ]
  },
  {
   "cell_type": "code",
   "execution_count": 17,
   "id": "9b19d751",
   "metadata": {},
   "outputs": [
    {
     "data": {
      "text/plain": [
       "0.8628428927680798"
      ]
     },
     "execution_count": 17,
     "metadata": {},
     "output_type": "execute_result"
    }
   ],
   "source": [
    "gs_nb.score(X_test, y_test)"
   ]
  },
  {
   "cell_type": "code",
   "execution_count": 18,
   "id": "902cf8bd",
   "metadata": {},
   "outputs": [],
   "source": [
    "# Get predictions\n",
    "preds_nb = gs_nb.predict(X_test)\n",
    "\n",
    "# Save confusion matrix values\n",
    "tn, fp, fn, tp = confusion_matrix(y_test, preds_nb).ravel()"
   ]
  },
  {
   "cell_type": "code",
   "execution_count": 19,
   "id": "a619d712",
   "metadata": {},
   "outputs": [
    {
     "data": {
      "text/plain": [
       "0.8628428927680798"
      ]
     },
     "execution_count": 19,
     "metadata": {},
     "output_type": "execute_result"
    }
   ],
   "source": [
    "# Calculate the accuracy\n",
    "accuracy = (tp + tn) / (tp + fp + tn + fn)\n",
    "accuracy"
   ]
  },
  {
   "cell_type": "code",
   "execution_count": 55,
   "id": "5f6de678",
   "metadata": {
    "scrolled": false
   },
   "outputs": [
    {
     "data": {
      "image/png": "[encoded data removed]",
      "text/plain": [
       "<Figure size 640x480 with 2 Axes>"
      ]
     },
     "metadata": {},
     "output_type": "display_data"
    }
   ],
   "source": [
    "ConfusionMatrixDisplay.from_estimator(gs_nb, X_test, y_test, cmap = \"Blues\") ;\n",
    "plt.suptitle('Model Using Naive-Bayes');  # Reference: Jack Vaughan\n",
    "plt.title(f'Accuracy: {accuracy}', {'fontsize':9});"
   ]
  },
  {
   "cell_type": "markdown",
   "id": "4b3cc447",
   "metadata": {},
   "source": [
    "# TfidfVectorizer in a GridSearch"
   ]
  },
  {
   "cell_type": "code",
   "execution_count": 21,
   "id": "70a913de",
   "metadata": {},
   "outputs": [],
   "source": [
    "tvec = TfidfVectorizer()"
   ]
  },
  {
   "cell_type": "code",
   "execution_count": 22,
   "id": "3ac92862",
   "metadata": {},
   "outputs": [
    {
     "data": {
      "text/plain": [
       "the       420.671641\n",
       "to        259.597422\n",
       "and       252.975368\n",
       "anime     248.547343\n",
       "of        226.346107\n",
       "is        223.409755\n",
       "it        213.117619\n",
       "naruto    208.003781\n",
       "in        185.389801\n",
       "this      182.251495\n",
       "you       154.586834\n",
       "what      153.637096\n",
       "that      150.395935\n",
       "for       137.181158\n",
       "https     133.777163\n",
       "was       121.325866\n",
       "me        120.649824\n",
       "my        114.574784\n",
       "on        112.332787\n",
       "he        110.540257\n",
       "dtype: float64"
      ]
     },
     "execution_count": 22,
     "metadata": {},
     "output_type": "execute_result"
    }
   ],
   "source": [
    "X_train_df2 = pd.DataFrame(tvec.fit_transform(X_train).todense(),\n",
    "                         columns=tvec.get_feature_names_out())\n",
    "X_train_df2.sum().sort_values(ascending=False).head(20)"
   ]
  },
  {
   "cell_type": "code",
   "execution_count": 23,
   "id": "37901197",
   "metadata": {},
   "outputs": [],
   "source": [
    "pipe_tvec = Pipeline([\n",
    "    ('tvec', TfidfVectorizer()),\n",
    "    ('nb', MultinomialNB())\n",
    "])"
   ]
  },
  {
   "cell_type": "code",
   "execution_count": 24,
   "id": "cb5663aa",
   "metadata": {},
   "outputs": [],
   "source": [
    "pipe_tvec_params = {\n",
    "    'tvec__max_features': [2000, 4000, 8000, 12000],\n",
    "    'tvec__stop_words': [None,\"english\"],\n",
    "    'tvec__ngram_range': [(1, 1), (1, 2), (1, 3), (2, 2)],\n",
    "    # 'tvec__tokenizer': ______,  --- this would typically be a good one to throw in also\n",
    "}"
   ]
  },
  {
   "cell_type": "code",
   "execution_count": 25,
   "id": "5287abf1",
   "metadata": {},
   "outputs": [],
   "source": [
    "gs_tvec = GridSearchCV(pipe_tvec,\n",
    "                      param_grid = pipe_tvec_params,\n",
    "                      cv=5,\n",
    "                      n_jobs=8)"
   ]
  },
  {
   "cell_type": "code",
   "execution_count": 26,
   "id": "38e3e19a",
   "metadata": {},
   "outputs": [
    {
     "data": {
      "text/plain": [
       "GridSearchCV(cv=5,\n",
       "             estimator=Pipeline(steps=[('tvec', TfidfVectorizer()),\n",
       "                                       ('nb', MultinomialNB())]),\n",
       "             n_jobs=8,\n",
       "             param_grid={'tvec__max_features': [2000, 4000, 8000, 12000],\n",
       "                         'tvec__ngram_range': [(1, 1), (1, 2), (1, 3), (2, 2)],\n",
       "                         'tvec__stop_words': [None, 'english']})"
      ]
     },
     "execution_count": 26,
     "metadata": {},
     "output_type": "execute_result"
    }
   ],
   "source": [
    "gs_tvec.fit(X_train, y_train)"
   ]
  },
  {
   "cell_type": "code",
   "execution_count": 27,
   "id": "80a4b794",
   "metadata": {},
   "outputs": [
    {
     "data": {
      "text/plain": [
       "{'tvec__max_features': 12000,\n",
       " 'tvec__ngram_range': (1, 2),\n",
       " 'tvec__stop_words': 'english'}"
      ]
     },
     "execution_count": 27,
     "metadata": {},
     "output_type": "execute_result"
    }
   ],
   "source": [
    "gs_tvec.best_params_"
   ]
  },
  {
   "cell_type": "code",
   "execution_count": 28,
   "id": "688fb890",
   "metadata": {},
   "outputs": [
    {
     "data": {
      "text/plain": [
       "0.9241857241857242"
      ]
     },
     "execution_count": 28,
     "metadata": {},
     "output_type": "execute_result"
    }
   ],
   "source": [
    "gs_tvec.score(X_train, y_train)"
   ]
  },
  {
   "cell_type": "code",
   "execution_count": 29,
   "id": "6fedad1b",
   "metadata": {},
   "outputs": [
    {
     "data": {
      "text/plain": [
       "0.8711554447215295"
      ]
     },
     "execution_count": 29,
     "metadata": {},
     "output_type": "execute_result"
    }
   ],
   "source": [
    "gs_tvec.score(X_test, y_test)"
   ]
  },
  {
   "cell_type": "code",
   "execution_count": 30,
   "id": "712fc482",
   "metadata": {},
   "outputs": [],
   "source": [
    "# Get predictions\n",
    "preds_tvec = gs_tvec.predict(X_test)\n",
    "\n",
    "# Save confusion matrix values\n",
    "tn, fp, fn, tp = confusion_matrix(y_test, preds_tvec).ravel()"
   ]
  },
  {
   "cell_type": "code",
   "execution_count": 31,
   "id": "d74444d6",
   "metadata": {},
   "outputs": [
    {
     "data": {
      "text/plain": [
       "0.8711554447215295"
      ]
     },
     "execution_count": 31,
     "metadata": {},
     "output_type": "execute_result"
    }
   ],
   "source": [
    "# Calculate the accuracy\n",
    "accuracy = (tp + tn) / (tp + fp + tn + fn)\n",
    "accuracy"
   ]
  },
  {
   "cell_type": "code",
   "execution_count": 32,
   "id": "125fa13f",
   "metadata": {
    "scrolled": false
   },
   "outputs": [
    {
     "data": {
      "image/png": "[encoded data removed]",
      "text/plain": [
       "<Figure size 640x480 with 2 Axes>"
      ]
     },
     "metadata": {},
     "output_type": "display_data"
    }
   ],
   "source": [
    "ConfusionMatrixDisplay.from_estimator(gs_tvec, X_test, y_test, cmap = \"Blues\") ;\n",
    "plt.suptitle('Model Using TfidfVectorizer');  # Reference: Jack Vaughan\n",
    "plt.title(f'Accuracy: {accuracy}', {'fontsize':9});"
   ]
  },
  {
   "cell_type": "markdown",
   "id": "dfde70fa",
   "metadata": {},
   "source": [
    "# Random Forest in a GridSearch"
   ]
  },
  {
   "cell_type": "code",
   "execution_count": 33,
   "id": "380c964d",
   "metadata": {},
   "outputs": [],
   "source": [
    "rf = RandomForestClassifier(n_jobs=8)\n",
    "# et = ExtraTreesClassifier(n_jobs=8)"
   ]
  },
  {
   "cell_type": "code",
   "execution_count": 34,
   "id": "89f478a0",
   "metadata": {},
   "outputs": [],
   "source": [
    "pipe_rf = Pipeline([\n",
    "    ('cvec', CountVectorizer()),\n",
    "    ('rf', RandomForestClassifier())\n",
    "])"
   ]
  },
  {
   "cell_type": "code",
   "execution_count": 35,
   "id": "3a6d75c7",
   "metadata": {},
   "outputs": [],
   "source": [
    "# DROP SOME PARAMS IF RUNNING AGAIN--- THIS ONE TOOK FOREVER TO RUN!\n",
    "\n",
    "pipe_rf_params = {\n",
    "    'cvec__stop_words': [None, \"english\"],\n",
    "    'cvec__max_features': [10_000], #[1000, 5000, 10_000],\n",
    "    'cvec__min_df': [1, 2],\n",
    "    'cvec__max_df': [0.4, 0.6, 0.8],\n",
    "    'cvec__ngram_range': [(1, 1), (1, 3), (2, 3)],\n",
    "    'rf__n_estimators': [100, 150, 200],\n",
    "    'rf__max_depth': [None, 1, 2, 3] #[None, 1, 2, 3, 4, 5, 6, 7]\n",
    "}"
   ]
  },
  {
   "cell_type": "code",
   "execution_count": 36,
   "id": "9e785166",
   "metadata": {},
   "outputs": [],
   "source": [
    "gs_rf = GridSearchCV(pipe_rf,\n",
    "                      param_grid = pipe_rf_params,\n",
    "                      cv=5,\n",
    "                      n_jobs=8)"
   ]
  },
  {
   "cell_type": "code",
   "execution_count": 37,
   "id": "6e5bcc82",
   "metadata": {},
   "outputs": [
    {
     "data": {
      "text/plain": [
       "GridSearchCV(cv=5,\n",
       "             estimator=Pipeline(steps=[('cvec', CountVectorizer()),\n",
       "                                       ('rf', RandomForestClassifier())]),\n",
       "             n_jobs=8,\n",
       "             param_grid={'cvec__max_df': [0.4, 0.6, 0.8],\n",
       "                         'cvec__max_features': [10000], 'cvec__min_df': [1, 2],\n",
       "                         'cvec__ngram_range': [(1, 1), (1, 3), (2, 3)],\n",
       "                         'cvec__stop_words': [None, 'english'],\n",
       "                         'rf__max_depth': [None, 1, 2, 3],\n",
       "                         'rf__n_estimators': [100, 150, 200]})"
      ]
     },
     "execution_count": 37,
     "metadata": {},
     "output_type": "execute_result"
    }
   ],
   "source": [
    "gs_rf.fit(X_train, y_train)"
   ]
  },
  {
   "cell_type": "code",
   "execution_count": 38,
   "id": "bd796aea",
   "metadata": {},
   "outputs": [
    {
     "data": {
      "text/plain": [
       "{'cvec__max_df': 0.4,\n",
       " 'cvec__max_features': 10000,\n",
       " 'cvec__min_df': 2,\n",
       " 'cvec__ngram_range': (1, 1),\n",
       " 'cvec__stop_words': None,\n",
       " 'rf__max_depth': None,\n",
       " 'rf__n_estimators': 100}"
      ]
     },
     "execution_count": 38,
     "metadata": {},
     "output_type": "execute_result"
    }
   ],
   "source": [
    "gs_rf.best_params_"
   ]
  },
  {
   "cell_type": "code",
   "execution_count": 39,
   "id": "2ed43690",
   "metadata": {
    "scrolled": true
   },
   "outputs": [
    {
     "data": {
      "text/plain": [
       "0.9944559944559944"
      ]
     },
     "execution_count": 39,
     "metadata": {},
     "output_type": "execute_result"
    }
   ],
   "source": [
    "gs_rf.score(X_train, y_train)"
   ]
  },
  {
   "cell_type": "code",
   "execution_count": 40,
   "id": "d9eb6cf6",
   "metadata": {
    "scrolled": true
   },
   "outputs": [
    {
     "data": {
      "text/plain": [
       "0.8802992518703242"
      ]
     },
     "execution_count": 40,
     "metadata": {},
     "output_type": "execute_result"
    }
   ],
   "source": [
    "gs_rf.score(X_test, y_test)"
   ]
  },
  {
   "cell_type": "code",
   "execution_count": 41,
   "id": "f467812e",
   "metadata": {},
   "outputs": [],
   "source": [
    "# Get predictions\n",
    "preds_rf = gs_rf.predict(X_test)\n",
    "\n",
    "# Save confusion matrix values\n",
    "tn, fp, fn, tp = confusion_matrix(y_test, preds_rf).ravel()"
   ]
  },
  {
   "cell_type": "code",
   "execution_count": 42,
   "id": "304e4b36",
   "metadata": {},
   "outputs": [
    {
     "data": {
      "text/plain": [
       "0.8802992518703242"
      ]
     },
     "execution_count": 42,
     "metadata": {},
     "output_type": "execute_result"
    }
   ],
   "source": [
    "# Calculate the accuracy\n",
    "accuracy = (tp + tn) / (tp + fp + tn + fn)\n",
    "accuracy"
   ]
  },
  {
   "cell_type": "code",
   "execution_count": 43,
   "id": "c71b6f29",
   "metadata": {
    "scrolled": false
   },
   "outputs": [
    {
     "data": {
      "image/png": "[encoded data removed]",
      "text/plain": [
       "<Figure size 640x480 with 2 Axes>"
      ]
     },
     "metadata": {},
     "output_type": "display_data"
    }
   ],
   "source": [
    "ConfusionMatrixDisplay.from_estimator(gs_rf, X_test, y_test, cmap = \"Blues\") ;\n",
    "plt.suptitle('Model Using RandomForest');  # Reference: Jack Vaughan\n",
    "plt.title(f'Accuracy: {accuracy}', {'fontsize':9});"
   ]
  },
  {
   "cell_type": "code",
   "execution_count": null,
   "id": "6fde193b",
   "metadata": {},
   "outputs": [],
   "source": []
  },
  {
   "cell_type": "code",
   "execution_count": null,
   "id": "60b9468f",
   "metadata": {},
   "outputs": [],
   "source": []
  },
  {
   "cell_type": "markdown",
   "id": "13951910",
   "metadata": {},
   "source": [
    "# K Nearest Neighbors"
   ]
  },
  {
   "cell_type": "code",
   "execution_count": 44,
   "id": "af45cadb",
   "metadata": {},
   "outputs": [],
   "source": [
    "# knn = KNeighborsClassifier(n_neighbors=5)"
   ]
  },
  {
   "cell_type": "code",
   "execution_count": null,
   "id": "90510e2f",
   "metadata": {},
   "outputs": [],
   "source": []
  },
  {
   "cell_type": "code",
   "execution_count": 45,
   "id": "c7cd9e96",
   "metadata": {},
   "outputs": [],
   "source": [
    "pipe_knn = Pipeline([\n",
    "    ('cvec', CountVectorizer()),\n",
    "    ('knn', KNeighborsClassifier())\n",
    "])"
   ]
  },
  {
   "cell_type": "code",
   "execution_count": 46,
   "id": "4654ed22",
   "metadata": {},
   "outputs": [],
   "source": [
    "pipe_knn_params = {\n",
    "    'cvec__stop_words': [None, \"english\"],\n",
    "    'cvec__max_features': [10_000],  #[1000, 5000, 10_000],\n",
    "    'cvec__min_df': [1, 2],\n",
    "    'cvec__max_df': [0.4, 0.6, 0.8],  # 'cvec__max_df': [0.9, 0.95],\n",
    "    'cvec__ngram_range': [(1, 1)],   #[(1, 1), (1, 3), (2, 3)],\n",
    "    'knn__n_neighbors': [5, 10],\n",
    "}"
   ]
  },
  {
   "cell_type": "code",
   "execution_count": 47,
   "id": "c70d998a",
   "metadata": {},
   "outputs": [],
   "source": [
    "gs_knn = GridSearchCV(pipe_knn,\n",
    "                      param_grid = pipe_knn_params,\n",
    "                      cv=5,\n",
    "                      n_jobs=8)"
   ]
  },
  {
   "cell_type": "code",
   "execution_count": 48,
   "id": "247ca488",
   "metadata": {},
   "outputs": [
    {
     "data": {
      "text/plain": [
       "GridSearchCV(cv=5,\n",
       "             estimator=Pipeline(steps=[('cvec', CountVectorizer()),\n",
       "                                       ('knn', KNeighborsClassifier())]),\n",
       "             n_jobs=8,\n",
       "             param_grid={'cvec__max_df': [0.4, 0.6, 0.8],\n",
       "                         'cvec__max_features': [10000], 'cvec__min_df': [1, 2],\n",
       "                         'cvec__ngram_range': [(1, 1)],\n",
       "                         'cvec__stop_words': [None, 'english'],\n",
       "                         'knn__n_neighbors': [5, 10]})"
      ]
     },
     "execution_count": 48,
     "metadata": {},
     "output_type": "execute_result"
    }
   ],
   "source": [
    "gs_knn.fit(X_train, y_train)"
   ]
  },
  {
   "cell_type": "code",
   "execution_count": 49,
   "id": "da0d0f20",
   "metadata": {},
   "outputs": [
    {
     "data": {
      "text/plain": [
       "{'cvec__max_df': 0.4,\n",
       " 'cvec__max_features': 10000,\n",
       " 'cvec__min_df': 1,\n",
       " 'cvec__ngram_range': (1, 1),\n",
       " 'cvec__stop_words': 'english',\n",
       " 'knn__n_neighbors': 5}"
      ]
     },
     "execution_count": 49,
     "metadata": {},
     "output_type": "execute_result"
    }
   ],
   "source": [
    "gs_knn.best_params_"
   ]
  },
  {
   "cell_type": "code",
   "execution_count": 50,
   "id": "cf5f8b7a",
   "metadata": {
    "scrolled": false
   },
   "outputs": [
    {
     "name": "stderr",
     "output_type": "stream",
     "text": [
      "D:\\anaconda3\\lib\\site-packages\\sklearn\\neighbors\\_classification.py:228: FutureWarning: Unlike other reduction functions (e.g. `skew`, `kurtosis`), the default behavior of `mode` typically preserves the axis it acts along. In SciPy 1.11.0, this behavior will change: the default value of `keepdims` will become False, the `axis` over which the statistic is taken will be eliminated, and the value None will no longer be accepted. Set `keepdims` to True or False to avoid this warning.\n",
      "  mode, _ = stats.mode(_y[neigh_ind, k], axis=1)\n"
     ]
    },
    {
     "data": {
      "text/plain": [
       "0.8332640332640333"
      ]
     },
     "execution_count": 50,
     "metadata": {},
     "output_type": "execute_result"
    }
   ],
   "source": [
    "gs_knn.score(X_train, y_train)"
   ]
  },
  {
   "cell_type": "code",
   "execution_count": 51,
   "id": "970a7d8a",
   "metadata": {
    "scrolled": true
   },
   "outputs": [
    {
     "name": "stderr",
     "output_type": "stream",
     "text": [
      "D:\\anaconda3\\lib\\site-packages\\sklearn\\neighbors\\_classification.py:228: FutureWarning: Unlike other reduction functions (e.g. `skew`, `kurtosis`), the default behavior of `mode` typically preserves the axis it acts along. In SciPy 1.11.0, this behavior will change: the default value of `keepdims` will become False, the `axis` over which the statistic is taken will be eliminated, and the value None will no longer be accepted. Set `keepdims` to True or False to avoid this warning.\n",
      "  mode, _ = stats.mode(_y[neigh_ind, k], axis=1)\n"
     ]
    },
    {
     "data": {
      "text/plain": [
       "0.7518703241895262"
      ]
     },
     "execution_count": 51,
     "metadata": {},
     "output_type": "execute_result"
    }
   ],
   "source": [
    "gs_knn.score(X_test, y_test)"
   ]
  },
  {
   "cell_type": "code",
   "execution_count": 52,
   "id": "b91f7ff3",
   "metadata": {},
   "outputs": [
    {
     "name": "stderr",
     "output_type": "stream",
     "text": [
      "D:\\anaconda3\\lib\\site-packages\\sklearn\\neighbors\\_classification.py:228: FutureWarning: Unlike other reduction functions (e.g. `skew`, `kurtosis`), the default behavior of `mode` typically preserves the axis it acts along. In SciPy 1.11.0, this behavior will change: the default value of `keepdims` will become False, the `axis` over which the statistic is taken will be eliminated, and the value None will no longer be accepted. Set `keepdims` to True or False to avoid this warning.\n",
      "  mode, _ = stats.mode(_y[neigh_ind, k], axis=1)\n"
     ]
    }
   ],
   "source": [
    "# Get predictions\n",
    "preds_knn = gs_knn.predict(X_test)\n",
    "\n",
    "# Save confusion matrix values\n",
    "tn, fp, fn, tp = confusion_matrix(y_test, preds_knn).ravel()"
   ]
  },
  {
   "cell_type": "code",
   "execution_count": 53,
   "id": "6db52ad3",
   "metadata": {},
   "outputs": [
    {
     "data": {
      "text/plain": [
       "0.7518703241895262"
      ]
     },
     "execution_count": 53,
     "metadata": {},
     "output_type": "execute_result"
    }
   ],
   "source": [
    "# Calculate the accuracy\n",
    "accuracy = (tp + tn) / (tp + fp + tn + fn)\n",
    "accuracy"
   ]
  },
  {
   "cell_type": "code",
   "execution_count": 54,
   "id": "f17ec72f",
   "metadata": {
    "scrolled": true
   },
   "outputs": [
    {
     "name": "stderr",
     "output_type": "stream",
     "text": [
      "D:\\anaconda3\\lib\\site-packages\\sklearn\\neighbors\\_classification.py:228: FutureWarning: Unlike other reduction functions (e.g. `skew`, `kurtosis`), the default behavior of `mode` typically preserves the axis it acts along. In SciPy 1.11.0, this behavior will change: the default value of `keepdims` will become False, the `axis` over which the statistic is taken will be eliminated, and the value None will no longer be accepted. Set `keepdims` to True or False to avoid this warning.\n",
      "  mode, _ = stats.mode(_y[neigh_ind, k], axis=1)\n"
     ]
    },
    {
     "data": {
      "image/png": "[encoded data removed]",
      "text/plain": [
       "<Figure size 640x480 with 2 Axes>"
      ]
     },
     "metadata": {},
     "output_type": "display_data"
    }
   ],
   "source": [
    "ConfusionMatrixDisplay.from_estimator(gs_knn, X_test, y_test, cmap = \"Blues\") ;\n",
    "plt.suptitle('Model Using K Nearest Neighbors');  # Reference: Jack Vaughan\n",
    "plt.title(f'Accuracy: {accuracy}', {'fontsize':9});"
   ]
  },
  {
   "cell_type": "code",
   "execution_count": null,
   "id": "118d3284",
   "metadata": {},
   "outputs": [],
   "source": []
  }
 ],
 "metadata": {
  "kernelspec": {
   "display_name": "Python 3 (ipykernel)",
   "language": "python",
   "name": "python3"
  },
  "language_info": {
   "codemirror_mode": {
    "name": "ipython",
    "version": 3
   },
   "file_extension": ".py",
   "mimetype": "text/x-python",
   "name": "python",
   "nbconvert_exporter": "python",
   "pygments_lexer": "ipython3",
   "version": "3.9.13"
  }
 },
 "nbformat": 4,
 "nbformat_minor": 5
}
